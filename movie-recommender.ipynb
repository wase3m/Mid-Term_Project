{
 "cells": [
  {
   "cell_type": "code",
   "execution_count": 1,
   "id": "90c2573f",
   "metadata": {},
   "outputs": [],
   "source": [
    "import numpy as np\n",
    "import pandas as pd\n",
    "import ast\n",
    "import nltk\n",
    "import pickle\n",
    "from sklearn.feature_extraction.text import CountVectorizer\n",
    "from sklearn.metrics.pairwise import cosine_similarity\n",
    "from nltk.stem.porter import PorterStemmer"
   ]
  },
  {
   "cell_type": "code",
   "execution_count": 2,
   "id": "3b3dbaa7",
   "metadata": {},
   "outputs": [],
   "source": [
    "# Load the datasets\n",
    "movies = pd.read_csv(\"tmdb_5000_movies.csv\")\n",
    "credits = pd.read_csv(\"tmdb_5000_credits.csv\")"
   ]
  },
  {
   "cell_type": "code",
   "execution_count": 3,
   "id": "cd560547",
   "metadata": {},
   "outputs": [],
   "source": [
    "# Merge the datasets\n",
    "movies = movies.merge(credits, on='title')"
   ]
  },
  {
   "cell_type": "code",
   "execution_count": 4,
   "id": "cb66da02",
   "metadata": {},
   "outputs": [],
   "source": [
    "# Select relevant columns\n",
    "movies = movies[['movie_id', 'title', 'overview', 'genres', 'keywords', 'cast', 'crew']]"
   ]
  },
  {
   "cell_type": "code",
   "execution_count": 5,
   "id": "43dfe50f",
   "metadata": {},
   "outputs": [],
   "source": [
    "# Preprocess genres column\n",
    "def convert(obj):\n",
    "    L = []\n",
    "    for i in ast.literal_eval(obj):\n",
    "        L.append(i['name'])\n",
    "    return L\n",
    "\n",
    "movies['genres'] = movies['genres'].apply(convert)"
   ]
  },
  {
   "cell_type": "code",
   "execution_count": 6,
   "id": "43716336",
   "metadata": {},
   "outputs": [],
   "source": [
    "# Preprocess keywords column\n",
    "movies['keywords'] = movies['keywords'].apply(convert)"
   ]
  },
  {
   "cell_type": "code",
   "execution_count": 7,
   "id": "9c9fd438",
   "metadata": {},
   "outputs": [],
   "source": [
    "# Preprocess cast column\n",
    "def convert_cast(obj):\n",
    "    counter = 0\n",
    "    L = []\n",
    "    for i in ast.literal_eval(obj):\n",
    "        if counter != 3:\n",
    "            L.append(i['name'])\n",
    "            counter += 1\n",
    "        else:\n",
    "            break\n",
    "    return L\n",
    "\n",
    "movies['cast'] = movies['cast'].apply(convert_cast)"
   ]
  },
  {
   "cell_type": "code",
   "execution_count": 8,
   "id": "0bf06ad0",
   "metadata": {},
   "outputs": [],
   "source": [
    "# Preprocess crew column\n",
    "def fetch_director(obj):\n",
    "    L = []\n",
    "    for i in ast.literal_eval(obj):\n",
    "        if i['job'] == 'Director':\n",
    "            L.append(i['name'])\n",
    "            break\n",
    "    return L\n",
    "\n",
    "movies['crew'] = movies['crew'].apply(fetch_director)"
   ]
  },
  {
   "cell_type": "code",
   "execution_count": 9,
   "id": "94f1f59e",
   "metadata": {},
   "outputs": [],
   "source": [
    "# Preprocess overview column\n",
    "movies['overview'] = movies['overview'].apply(lambda x: [x] if isinstance(x, str) else [])"
   ]
  },
  {
   "cell_type": "code",
   "execution_count": 10,
   "id": "5232d22b",
   "metadata": {},
   "outputs": [],
   "source": [
    "# Create a new dataframe with selected columns\n",
    "new_df = movies[['movie_id', 'title']].copy()"
   ]
  },
  {
   "cell_type": "code",
   "execution_count": 11,
   "id": "f51a6f5c",
   "metadata": {},
   "outputs": [],
   "source": [
    "# Generate tags for each movie\n",
    "new_df['tags'] = movies['overview'] + movies['genres'] + movies['keywords'] + movies['cast'] + movies['crew']\n",
    "new_df['tags'] = new_df['tags'].apply(lambda x: [str(tag).lower() for tag in x])"
   ]
  },
  {
   "cell_type": "code",
   "execution_count": null,
   "id": "4fe77b1c",
   "metadata": {
    "scrolled": true
   },
   "outputs": [],
   "source": [
    "# Stem the tags\n",
    "nltk.download('punkt')\n",
    "ps = PorterStemmer()\n",
    "new_df['tags'] = new_df['tags'].apply(lambda x: [ps.stem(word) for tag in x for word in nltk.word_tokenize(tag)])"
   ]
  },
  {
   "cell_type": "code",
   "execution_count": 13,
   "id": "5392e886",
   "metadata": {},
   "outputs": [],
   "source": [
    "# Convert the tags to a single string\n",
    "new_df['tags'] = new_df['tags'].apply(lambda x: \" \".join(x))"
   ]
  },
  {
   "cell_type": "code",
   "execution_count": 14,
   "id": "0ef6fd4f",
   "metadata": {},
   "outputs": [],
   "source": [
    "# Vectorize the tags using CountVectorizer\n",
    "cv = CountVectorizer(max_features=5000, stop_words='english')\n",
    "vectors = cv.fit_transform(new_df['tags']).toarray()"
   ]
  },
  {
   "cell_type": "code",
   "execution_count": 15,
   "id": "9f7ddb94",
   "metadata": {},
   "outputs": [],
   "source": [
    "# Calculate cosine similarity\n",
    "similarity = cosine_similarity(vectors)"
   ]
  },
  {
   "cell_type": "code",
   "execution_count": 16,
   "id": "ee92213f",
   "metadata": {},
   "outputs": [],
   "source": [
    "# Function to recommend movies\n",
    "def recommend(movie):\n",
    "    movie_index = new_df[new_df['title'] == movie].index[0]\n",
    "    distances = similarity[movie_index]\n",
    "    movies_list = sorted(list(enumerate(distances)), reverse=True, key=lambda x: x[1])[1:6]\n",
    "    \n",
    "    for i in movies_list:\n",
    "        print(new_df.iloc[i[0]].title)"
   ]
  },
  {
   "cell_type": "code",
   "execution_count": 17,
   "id": "66b4d643",
   "metadata": {},
   "outputs": [],
   "source": [
    "# Save the data and models\n",
    "pickle.dump(new_df, open('movies.pkl', 'wb'))\n",
    "pickle.dump(new_df.to_dict(), open('movie_dict.pkl', 'wb'))\n",
    "pickle.dump(similarity, open('similarity.pkl', 'wb'))"
   ]
  },
  {
   "cell_type": "code",
   "execution_count": 18,
   "id": "5fa08d15",
   "metadata": {},
   "outputs": [
    {
     "name": "stdout",
     "output_type": "stream",
     "text": [
      "Quantum of Solace\n",
      "Never Say Never Again\n",
      "Dr. No\n",
      "Skyfall\n",
      "From Russia with Love\n"
     ]
    }
   ],
   "source": [
    "recommend('Spectre')"
   ]
  },
  {
   "cell_type": "code",
   "execution_count": 20,
   "id": "e9759355",
   "metadata": {},
   "outputs": [
    {
     "name": "stdout",
     "output_type": "stream",
     "text": [
      "Silent Running\n",
      "2001: A Space Odyssey\n",
      "Planet of the Apes\n",
      "Lost in Space\n",
      "Spaceballs\n"
     ]
    }
   ],
   "source": [
    "recommend('Interstellar')"
   ]
  },
  {
   "cell_type": "code",
   "execution_count": 21,
   "id": "3a4031b9",
   "metadata": {},
   "outputs": [
    {
     "name": "stdout",
     "output_type": "stream",
     "text": [
      "Space Pirate Captain Harlock\n",
      "Gravity\n",
      "Armageddon\n",
      "Red Planet\n",
      "John Carter\n"
     ]
    }
   ],
   "source": [
    "recommend('The Martian')"
   ]
  }
 ],
 "metadata": {
  "kernelspec": {
   "display_name": "Python 3 (ipykernel)",
   "language": "python",
   "name": "python3"
  },
  "language_info": {
   "codemirror_mode": {
    "name": "ipython",
    "version": 3
   },
   "file_extension": ".py",
   "mimetype": "text/x-python",
   "name": "python",
   "nbconvert_exporter": "python",
   "pygments_lexer": "ipython3",
   "version": "3.10.9"
  }
 },
 "nbformat": 4,
 "nbformat_minor": 5
}
